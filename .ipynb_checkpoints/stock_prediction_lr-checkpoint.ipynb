{
 "cells": [
  {
   "cell_type": "code",
   "execution_count": 1,
   "metadata": {},
   "outputs": [],
   "source": [
    "import pandas as pd\n",
    "import pandas_datareader.data as web\n",
    "import matplotlib.pyplot as plt\n",
    "from sklearn.model_selection import train_test_split\n",
    "from sklearn.linear_model import LinearRegression"
   ]
  },
  {
   "cell_type": "code",
   "execution_count": 2,
   "metadata": {},
   "outputs": [
    {
     "data": {
      "text/html": [
       "<div>\n",
       "<style scoped>\n",
       "    .dataframe tbody tr th:only-of-type {\n",
       "        vertical-align: middle;\n",
       "    }\n",
       "\n",
       "    .dataframe tbody tr th {\n",
       "        vertical-align: top;\n",
       "    }\n",
       "\n",
       "    .dataframe thead th {\n",
       "        text-align: right;\n",
       "    }\n",
       "</style>\n",
       "<table border=\"1\" class=\"dataframe\">\n",
       "  <thead>\n",
       "    <tr style=\"text-align: right;\">\n",
       "      <th></th>\n",
       "      <th>High</th>\n",
       "      <th>Low</th>\n",
       "      <th>Open</th>\n",
       "      <th>Close</th>\n",
       "      <th>Volume</th>\n",
       "      <th>Adj Close</th>\n",
       "    </tr>\n",
       "    <tr>\n",
       "      <th>Date</th>\n",
       "      <th></th>\n",
       "      <th></th>\n",
       "      <th></th>\n",
       "      <th></th>\n",
       "      <th></th>\n",
       "      <th></th>\n",
       "    </tr>\n",
       "  </thead>\n",
       "  <tbody>\n",
       "    <tr>\n",
       "      <th>2014-12-31</th>\n",
       "      <td>49.391430</td>\n",
       "      <td>48.787144</td>\n",
       "      <td>49.032856</td>\n",
       "      <td>48.801430</td>\n",
       "      <td>8627500.0</td>\n",
       "      <td>48.801430</td>\n",
       "    </tr>\n",
       "    <tr>\n",
       "      <th>2015-01-02</th>\n",
       "      <td>50.331429</td>\n",
       "      <td>48.731430</td>\n",
       "      <td>49.151428</td>\n",
       "      <td>49.848572</td>\n",
       "      <td>13475000.0</td>\n",
       "      <td>49.848572</td>\n",
       "    </tr>\n",
       "    <tr>\n",
       "      <th>2015-01-05</th>\n",
       "      <td>49.258572</td>\n",
       "      <td>47.147144</td>\n",
       "      <td>49.258572</td>\n",
       "      <td>47.311428</td>\n",
       "      <td>18165000.0</td>\n",
       "      <td>47.311428</td>\n",
       "    </tr>\n",
       "    <tr>\n",
       "      <th>2015-01-06</th>\n",
       "      <td>47.639999</td>\n",
       "      <td>45.661430</td>\n",
       "      <td>47.347141</td>\n",
       "      <td>46.501431</td>\n",
       "      <td>16037700.0</td>\n",
       "      <td>46.501431</td>\n",
       "    </tr>\n",
       "    <tr>\n",
       "      <th>2015-01-07</th>\n",
       "      <td>47.421429</td>\n",
       "      <td>46.271427</td>\n",
       "      <td>47.347141</td>\n",
       "      <td>46.742859</td>\n",
       "      <td>9849700.0</td>\n",
       "      <td>46.742859</td>\n",
       "    </tr>\n",
       "    <tr>\n",
       "      <th>...</th>\n",
       "      <td>...</td>\n",
       "      <td>...</td>\n",
       "      <td>...</td>\n",
       "      <td>...</td>\n",
       "      <td>...</td>\n",
       "      <td>...</td>\n",
       "    </tr>\n",
       "    <tr>\n",
       "      <th>2020-10-26</th>\n",
       "      <td>496.820007</td>\n",
       "      <td>478.899994</td>\n",
       "      <td>487.029999</td>\n",
       "      <td>488.239990</td>\n",
       "      <td>6186100.0</td>\n",
       "      <td>488.239990</td>\n",
       "    </tr>\n",
       "    <tr>\n",
       "      <th>2020-10-27</th>\n",
       "      <td>490.489990</td>\n",
       "      <td>482.929993</td>\n",
       "      <td>490.010010</td>\n",
       "      <td>488.929993</td>\n",
       "      <td>3627200.0</td>\n",
       "      <td>488.929993</td>\n",
       "    </tr>\n",
       "    <tr>\n",
       "      <th>2020-10-28</th>\n",
       "      <td>494.000000</td>\n",
       "      <td>483.279999</td>\n",
       "      <td>486.359985</td>\n",
       "      <td>486.239990</td>\n",
       "      <td>5992700.0</td>\n",
       "      <td>486.239990</td>\n",
       "    </tr>\n",
       "    <tr>\n",
       "      <th>2020-10-29</th>\n",
       "      <td>513.900024</td>\n",
       "      <td>479.339996</td>\n",
       "      <td>488.500000</td>\n",
       "      <td>504.209991</td>\n",
       "      <td>11120700.0</td>\n",
       "      <td>504.209991</td>\n",
       "    </tr>\n",
       "    <tr>\n",
       "      <th>2020-10-30</th>\n",
       "      <td>505.880005</td>\n",
       "      <td>472.209991</td>\n",
       "      <td>502.010010</td>\n",
       "      <td>475.739990</td>\n",
       "      <td>7807900.0</td>\n",
       "      <td>475.739990</td>\n",
       "    </tr>\n",
       "  </tbody>\n",
       "</table>\n",
       "<p>1470 rows × 6 columns</p>\n",
       "</div>"
      ],
      "text/plain": [
       "                  High         Low        Open       Close      Volume  \\\n",
       "Date                                                                     \n",
       "2014-12-31   49.391430   48.787144   49.032856   48.801430   8627500.0   \n",
       "2015-01-02   50.331429   48.731430   49.151428   49.848572  13475000.0   \n",
       "2015-01-05   49.258572   47.147144   49.258572   47.311428  18165000.0   \n",
       "2015-01-06   47.639999   45.661430   47.347141   46.501431  16037700.0   \n",
       "2015-01-07   47.421429   46.271427   47.347141   46.742859   9849700.0   \n",
       "...                ...         ...         ...         ...         ...   \n",
       "2020-10-26  496.820007  478.899994  487.029999  488.239990   6186100.0   \n",
       "2020-10-27  490.489990  482.929993  490.010010  488.929993   3627200.0   \n",
       "2020-10-28  494.000000  483.279999  486.359985  486.239990   5992700.0   \n",
       "2020-10-29  513.900024  479.339996  488.500000  504.209991  11120700.0   \n",
       "2020-10-30  505.880005  472.209991  502.010010  475.739990   7807900.0   \n",
       "\n",
       "             Adj Close  \n",
       "Date                    \n",
       "2014-12-31   48.801430  \n",
       "2015-01-02   49.848572  \n",
       "2015-01-05   47.311428  \n",
       "2015-01-06   46.501431  \n",
       "2015-01-07   46.742859  \n",
       "...                ...  \n",
       "2020-10-26  488.239990  \n",
       "2020-10-27  488.929993  \n",
       "2020-10-28  486.239990  \n",
       "2020-10-29  504.209991  \n",
       "2020-10-30  475.739990  \n",
       "\n",
       "[1470 rows x 6 columns]"
      ]
     },
     "execution_count": 2,
     "metadata": {},
     "output_type": "execute_result"
    }
   ],
   "source": [
    "# get the dataset from Yahoo.\n",
    "start = '2015-01-01'\n",
    "end = '2020-11-01'\n",
    "df = web.DataReader('NFLX', 'yahoo', start=start, end=end)\n",
    "df"
   ]
  },
  {
   "cell_type": "code",
   "execution_count": 3,
   "metadata": {
    "scrolled": false
   },
   "outputs": [
    {
     "data": {
      "text/html": [
       "<div>\n",
       "<style scoped>\n",
       "    .dataframe tbody tr th:only-of-type {\n",
       "        vertical-align: middle;\n",
       "    }\n",
       "\n",
       "    .dataframe tbody tr th {\n",
       "        vertical-align: top;\n",
       "    }\n",
       "\n",
       "    .dataframe thead th {\n",
       "        text-align: right;\n",
       "    }\n",
       "</style>\n",
       "<table border=\"1\" class=\"dataframe\">\n",
       "  <thead>\n",
       "    <tr style=\"text-align: right;\">\n",
       "      <th></th>\n",
       "      <th>Date</th>\n",
       "      <th>High</th>\n",
       "      <th>Low</th>\n",
       "      <th>Open</th>\n",
       "      <th>Close</th>\n",
       "      <th>Volume</th>\n",
       "      <th>Adj Close</th>\n",
       "    </tr>\n",
       "  </thead>\n",
       "  <tbody>\n",
       "    <tr>\n",
       "      <th>0</th>\n",
       "      <td>2014-12-31</td>\n",
       "      <td>49.391430</td>\n",
       "      <td>48.787144</td>\n",
       "      <td>49.032856</td>\n",
       "      <td>48.801430</td>\n",
       "      <td>8627500.0</td>\n",
       "      <td>48.801430</td>\n",
       "    </tr>\n",
       "    <tr>\n",
       "      <th>1</th>\n",
       "      <td>2015-01-02</td>\n",
       "      <td>50.331429</td>\n",
       "      <td>48.731430</td>\n",
       "      <td>49.151428</td>\n",
       "      <td>49.848572</td>\n",
       "      <td>13475000.0</td>\n",
       "      <td>49.848572</td>\n",
       "    </tr>\n",
       "    <tr>\n",
       "      <th>2</th>\n",
       "      <td>2015-01-05</td>\n",
       "      <td>49.258572</td>\n",
       "      <td>47.147144</td>\n",
       "      <td>49.258572</td>\n",
       "      <td>47.311428</td>\n",
       "      <td>18165000.0</td>\n",
       "      <td>47.311428</td>\n",
       "    </tr>\n",
       "    <tr>\n",
       "      <th>3</th>\n",
       "      <td>2015-01-06</td>\n",
       "      <td>47.639999</td>\n",
       "      <td>45.661430</td>\n",
       "      <td>47.347141</td>\n",
       "      <td>46.501431</td>\n",
       "      <td>16037700.0</td>\n",
       "      <td>46.501431</td>\n",
       "    </tr>\n",
       "    <tr>\n",
       "      <th>4</th>\n",
       "      <td>2015-01-07</td>\n",
       "      <td>47.421429</td>\n",
       "      <td>46.271427</td>\n",
       "      <td>47.347141</td>\n",
       "      <td>46.742859</td>\n",
       "      <td>9849700.0</td>\n",
       "      <td>46.742859</td>\n",
       "    </tr>\n",
       "  </tbody>\n",
       "</table>\n",
       "</div>"
      ],
      "text/plain": [
       "        Date       High        Low       Open      Close      Volume  \\\n",
       "0 2014-12-31  49.391430  48.787144  49.032856  48.801430   8627500.0   \n",
       "1 2015-01-02  50.331429  48.731430  49.151428  49.848572  13475000.0   \n",
       "2 2015-01-05  49.258572  47.147144  49.258572  47.311428  18165000.0   \n",
       "3 2015-01-06  47.639999  45.661430  47.347141  46.501431  16037700.0   \n",
       "4 2015-01-07  47.421429  46.271427  47.347141  46.742859   9849700.0   \n",
       "\n",
       "   Adj Close  \n",
       "0  48.801430  \n",
       "1  49.848572  \n",
       "2  47.311428  \n",
       "3  46.501431  \n",
       "4  46.742859  "
      ]
     },
     "execution_count": 3,
     "metadata": {},
     "output_type": "execute_result"
    }
   ],
   "source": [
    "# resetting index to access Date as a column\n",
    "df.reset_index(inplace=True)\n",
    "df.head()"
   ]
  },
  {
   "cell_type": "code",
   "execution_count": 4,
   "metadata": {},
   "outputs": [
    {
     "data": {
      "text/html": [
       "<div>\n",
       "<style scoped>\n",
       "    .dataframe tbody tr th:only-of-type {\n",
       "        vertical-align: middle;\n",
       "    }\n",
       "\n",
       "    .dataframe tbody tr th {\n",
       "        vertical-align: top;\n",
       "    }\n",
       "\n",
       "    .dataframe thead th {\n",
       "        text-align: right;\n",
       "    }\n",
       "</style>\n",
       "<table border=\"1\" class=\"dataframe\">\n",
       "  <thead>\n",
       "    <tr style=\"text-align: right;\">\n",
       "      <th></th>\n",
       "      <th>High</th>\n",
       "      <th>Low</th>\n",
       "      <th>Open</th>\n",
       "      <th>Close</th>\n",
       "      <th>Volume</th>\n",
       "      <th>Adj Close</th>\n",
       "    </tr>\n",
       "  </thead>\n",
       "  <tbody>\n",
       "    <tr>\n",
       "      <th>count</th>\n",
       "      <td>1470.000000</td>\n",
       "      <td>1470.000000</td>\n",
       "      <td>1470.000000</td>\n",
       "      <td>1470.000000</td>\n",
       "      <td>1.470000e+03</td>\n",
       "      <td>1470.000000</td>\n",
       "    </tr>\n",
       "    <tr>\n",
       "      <th>mean</th>\n",
       "      <td>238.603769</td>\n",
       "      <td>230.967950</td>\n",
       "      <td>234.878002</td>\n",
       "      <td>234.951497</td>\n",
       "      <td>1.089978e+07</td>\n",
       "      <td>234.951497</td>\n",
       "    </tr>\n",
       "    <tr>\n",
       "      <th>std</th>\n",
       "      <td>133.938220</td>\n",
       "      <td>129.192026</td>\n",
       "      <td>131.672457</td>\n",
       "      <td>131.652171</td>\n",
       "      <td>8.297950e+06</td>\n",
       "      <td>131.652171</td>\n",
       "    </tr>\n",
       "    <tr>\n",
       "      <th>min</th>\n",
       "      <td>46.785713</td>\n",
       "      <td>45.264286</td>\n",
       "      <td>46.021427</td>\n",
       "      <td>45.547142</td>\n",
       "      <td>1.616300e+06</td>\n",
       "      <td>45.547142</td>\n",
       "    </tr>\n",
       "    <tr>\n",
       "      <th>25%</th>\n",
       "      <td>110.355000</td>\n",
       "      <td>105.257500</td>\n",
       "      <td>108.080000</td>\n",
       "      <td>108.157499</td>\n",
       "      <td>5.750850e+06</td>\n",
       "      <td>108.157499</td>\n",
       "    </tr>\n",
       "    <tr>\n",
       "      <th>50%</th>\n",
       "      <td>197.305000</td>\n",
       "      <td>193.790001</td>\n",
       "      <td>195.655006</td>\n",
       "      <td>195.625000</td>\n",
       "      <td>8.481400e+06</td>\n",
       "      <td>195.625000</td>\n",
       "    </tr>\n",
       "    <tr>\n",
       "      <th>75%</th>\n",
       "      <td>353.457489</td>\n",
       "      <td>342.217491</td>\n",
       "      <td>347.897499</td>\n",
       "      <td>348.492493</td>\n",
       "      <td>1.334478e+07</td>\n",
       "      <td>348.492493</td>\n",
       "    </tr>\n",
       "    <tr>\n",
       "      <th>max</th>\n",
       "      <td>575.369995</td>\n",
       "      <td>541.000000</td>\n",
       "      <td>567.979980</td>\n",
       "      <td>556.549988</td>\n",
       "      <td>1.045009e+08</td>\n",
       "      <td>556.549988</td>\n",
       "    </tr>\n",
       "  </tbody>\n",
       "</table>\n",
       "</div>"
      ],
      "text/plain": [
       "              High          Low         Open        Close        Volume  \\\n",
       "count  1470.000000  1470.000000  1470.000000  1470.000000  1.470000e+03   \n",
       "mean    238.603769   230.967950   234.878002   234.951497  1.089978e+07   \n",
       "std     133.938220   129.192026   131.672457   131.652171  8.297950e+06   \n",
       "min      46.785713    45.264286    46.021427    45.547142  1.616300e+06   \n",
       "25%     110.355000   105.257500   108.080000   108.157499  5.750850e+06   \n",
       "50%     197.305000   193.790001   195.655006   195.625000  8.481400e+06   \n",
       "75%     353.457489   342.217491   347.897499   348.492493  1.334478e+07   \n",
       "max     575.369995   541.000000   567.979980   556.549988  1.045009e+08   \n",
       "\n",
       "         Adj Close  \n",
       "count  1470.000000  \n",
       "mean    234.951497  \n",
       "std     131.652171  \n",
       "min      45.547142  \n",
       "25%     108.157499  \n",
       "50%     195.625000  \n",
       "75%     348.492493  \n",
       "max     556.549988  "
      ]
     },
     "execution_count": 4,
     "metadata": {},
     "output_type": "execute_result"
    }
   ],
   "source": [
    "df.describe()"
   ]
  },
  {
   "cell_type": "code",
   "execution_count": 5,
   "metadata": {},
   "outputs": [
    {
     "data": {
      "text/plain": [
       "Date         False\n",
       "High         False\n",
       "Low          False\n",
       "Open         False\n",
       "Close        False\n",
       "Volume       False\n",
       "Adj Close    False\n",
       "dtype: bool"
      ]
     },
     "execution_count": 5,
     "metadata": {},
     "output_type": "execute_result"
    }
   ],
   "source": [
    "# check for nan values\n",
    "df.isna().any()"
   ]
  },
  {
   "cell_type": "code",
   "execution_count": 6,
   "metadata": {},
   "outputs": [
    {
     "data": {
      "text/plain": [
       "(1470, 7)"
      ]
     },
     "execution_count": 6,
     "metadata": {},
     "output_type": "execute_result"
    }
   ],
   "source": [
    "df.shape"
   ]
  },
  {
   "cell_type": "code",
   "execution_count": 7,
   "metadata": {
    "scrolled": false
   },
   "outputs": [
    {
     "data": {
      "text/html": [
       "<div>\n",
       "<style scoped>\n",
       "    .dataframe tbody tr th:only-of-type {\n",
       "        vertical-align: middle;\n",
       "    }\n",
       "\n",
       "    .dataframe tbody tr th {\n",
       "        vertical-align: top;\n",
       "    }\n",
       "\n",
       "    .dataframe thead th {\n",
       "        text-align: right;\n",
       "    }\n",
       "</style>\n",
       "<table border=\"1\" class=\"dataframe\">\n",
       "  <thead>\n",
       "    <tr style=\"text-align: right;\">\n",
       "      <th></th>\n",
       "      <th>High</th>\n",
       "      <th>Low</th>\n",
       "      <th>Open</th>\n",
       "      <th>Close</th>\n",
       "      <th>Volume</th>\n",
       "      <th>Adj Close</th>\n",
       "    </tr>\n",
       "  </thead>\n",
       "  <tbody>\n",
       "    <tr>\n",
       "      <th>High</th>\n",
       "      <td>1.000000</td>\n",
       "      <td>0.999370</td>\n",
       "      <td>0.999515</td>\n",
       "      <td>0.999527</td>\n",
       "      <td>-0.290636</td>\n",
       "      <td>0.999527</td>\n",
       "    </tr>\n",
       "    <tr>\n",
       "      <th>Low</th>\n",
       "      <td>0.999370</td>\n",
       "      <td>1.000000</td>\n",
       "      <td>0.999503</td>\n",
       "      <td>0.999485</td>\n",
       "      <td>-0.305535</td>\n",
       "      <td>0.999485</td>\n",
       "    </tr>\n",
       "    <tr>\n",
       "      <th>Open</th>\n",
       "      <td>0.999515</td>\n",
       "      <td>0.999503</td>\n",
       "      <td>1.000000</td>\n",
       "      <td>0.998924</td>\n",
       "      <td>-0.298179</td>\n",
       "      <td>0.998924</td>\n",
       "    </tr>\n",
       "    <tr>\n",
       "      <th>Close</th>\n",
       "      <td>0.999527</td>\n",
       "      <td>0.999485</td>\n",
       "      <td>0.998924</td>\n",
       "      <td>1.000000</td>\n",
       "      <td>-0.297024</td>\n",
       "      <td>1.000000</td>\n",
       "    </tr>\n",
       "    <tr>\n",
       "      <th>Volume</th>\n",
       "      <td>-0.290636</td>\n",
       "      <td>-0.305535</td>\n",
       "      <td>-0.298179</td>\n",
       "      <td>-0.297024</td>\n",
       "      <td>1.000000</td>\n",
       "      <td>-0.297024</td>\n",
       "    </tr>\n",
       "    <tr>\n",
       "      <th>Adj Close</th>\n",
       "      <td>0.999527</td>\n",
       "      <td>0.999485</td>\n",
       "      <td>0.998924</td>\n",
       "      <td>1.000000</td>\n",
       "      <td>-0.297024</td>\n",
       "      <td>1.000000</td>\n",
       "    </tr>\n",
       "  </tbody>\n",
       "</table>\n",
       "</div>"
      ],
      "text/plain": [
       "               High       Low      Open     Close    Volume  Adj Close\n",
       "High       1.000000  0.999370  0.999515  0.999527 -0.290636   0.999527\n",
       "Low        0.999370  1.000000  0.999503  0.999485 -0.305535   0.999485\n",
       "Open       0.999515  0.999503  1.000000  0.998924 -0.298179   0.998924\n",
       "Close      0.999527  0.999485  0.998924  1.000000 -0.297024   1.000000\n",
       "Volume    -0.290636 -0.305535 -0.298179 -0.297024  1.000000  -0.297024\n",
       "Adj Close  0.999527  0.999485  0.998924  1.000000 -0.297024   1.000000"
      ]
     },
     "execution_count": 7,
     "metadata": {},
     "output_type": "execute_result"
    }
   ],
   "source": [
    "# correlation\n",
    "corr = df.corr(method='pearson')\n",
    "corr"
   ]
  },
  {
   "cell_type": "code",
   "execution_count": 9,
   "metadata": {},
   "outputs": [
    {
     "data": {
      "text/plain": [
       "<AxesSubplot:>"
      ]
     },
     "execution_count": 9,
     "metadata": {},
     "output_type": "execute_result"
    },
    {
     "data": {
      "image/png": "[encoded data removed]",
      "text/plain": [
       "<Figure size 432x288 with 2 Axes>"
      ]
     },
     "metadata": {
      "needs_background": "light"
     },
     "output_type": "display_data"
    }
   ],
   "source": [
    "# visualize correlation\n",
    "import seaborn as sb\n",
    "sb.heatmap(corr,xticklabels=corr.columns, yticklabels=corr.columns,\n",
    " cmap='RdBu_r', annot=True, linewidth=0.5)"
   ]
  },
  {
   "cell_type": "code",
   "execution_count": 10,
   "metadata": {},
   "outputs": [
    {
     "data": {
      "image/png": "[encoded data removed]",
      "text/plain": [
       "<Figure size 1152x576 with 1 Axes>"
      ]
     },
     "metadata": {
      "needs_background": "light"
     },
     "output_type": "display_data"
    }
   ],
   "source": [
    "xy_df = df[['Date', 'High', 'Low', 'Open', 'Close']]\n",
    "plt.figure(figsize=(16,8))\n",
    "plt.style.use('fivethirtyeight')\n",
    "plt.plot(xy_df['Date'], xy_df['Close'])\n",
    "plt.xlabel('Date')\n",
    "plt.ylabel('Closing price in USD')\n",
    "plt.show()"
   ]
  },
  {
   "cell_type": "code",
   "execution_count": 11,
   "metadata": {},
   "outputs": [
    {
     "name": "stderr",
     "output_type": "stream",
     "text": [
      "<ipython-input-11-0396481fadf6>:2: SettingWithCopyWarning: \n",
      "A value is trying to be set on a copy of a slice from a DataFrame.\n",
      "Try using .loc[row_indexer,col_indexer] = value instead\n",
      "\n",
      "See the caveats in the documentation: https://pandas.pydata.org/pandas-docs/stable/user_guide/indexing.html#returning-a-view-versus-a-copy\n",
      "  xy_df['Year'] = df['Date'].dt.year\n"
     ]
    },
    {
     "data": {
      "text/html": [
       "<div>\n",
       "<style scoped>\n",
       "    .dataframe tbody tr th:only-of-type {\n",
       "        vertical-align: middle;\n",
       "    }\n",
       "\n",
       "    .dataframe tbody tr th {\n",
       "        vertical-align: top;\n",
       "    }\n",
       "\n",
       "    .dataframe thead th {\n",
       "        text-align: right;\n",
       "    }\n",
       "</style>\n",
       "<table border=\"1\" class=\"dataframe\">\n",
       "  <thead>\n",
       "    <tr style=\"text-align: right;\">\n",
       "      <th></th>\n",
       "      <th>Date</th>\n",
       "      <th>High</th>\n",
       "      <th>Low</th>\n",
       "      <th>Open</th>\n",
       "      <th>Close</th>\n",
       "      <th>Year</th>\n",
       "      <th>Month</th>\n",
       "      <th>Day</th>\n",
       "    </tr>\n",
       "  </thead>\n",
       "  <tbody>\n",
       "    <tr>\n",
       "      <th>0</th>\n",
       "      <td>2014-12-31</td>\n",
       "      <td>49.391430</td>\n",
       "      <td>48.787144</td>\n",
       "      <td>49.032856</td>\n",
       "      <td>48.801430</td>\n",
       "      <td>2014</td>\n",
       "      <td>12</td>\n",
       "      <td>31</td>\n",
       "    </tr>\n",
       "    <tr>\n",
       "      <th>1</th>\n",
       "      <td>2015-01-02</td>\n",
       "      <td>50.331429</td>\n",
       "      <td>48.731430</td>\n",
       "      <td>49.151428</td>\n",
       "      <td>49.848572</td>\n",
       "      <td>2015</td>\n",
       "      <td>1</td>\n",
       "      <td>2</td>\n",
       "    </tr>\n",
       "    <tr>\n",
       "      <th>2</th>\n",
       "      <td>2015-01-05</td>\n",
       "      <td>49.258572</td>\n",
       "      <td>47.147144</td>\n",
       "      <td>49.258572</td>\n",
       "      <td>47.311428</td>\n",
       "      <td>2015</td>\n",
       "      <td>1</td>\n",
       "      <td>5</td>\n",
       "    </tr>\n",
       "    <tr>\n",
       "      <th>3</th>\n",
       "      <td>2015-01-06</td>\n",
       "      <td>47.639999</td>\n",
       "      <td>45.661430</td>\n",
       "      <td>47.347141</td>\n",
       "      <td>46.501431</td>\n",
       "      <td>2015</td>\n",
       "      <td>1</td>\n",
       "      <td>6</td>\n",
       "    </tr>\n",
       "    <tr>\n",
       "      <th>4</th>\n",
       "      <td>2015-01-07</td>\n",
       "      <td>47.421429</td>\n",
       "      <td>46.271427</td>\n",
       "      <td>47.347141</td>\n",
       "      <td>46.742859</td>\n",
       "      <td>2015</td>\n",
       "      <td>1</td>\n",
       "      <td>7</td>\n",
       "    </tr>\n",
       "    <tr>\n",
       "      <th>5</th>\n",
       "      <td>2015-01-08</td>\n",
       "      <td>47.835712</td>\n",
       "      <td>46.478573</td>\n",
       "      <td>47.119999</td>\n",
       "      <td>47.779999</td>\n",
       "      <td>2015</td>\n",
       "      <td>1</td>\n",
       "      <td>8</td>\n",
       "    </tr>\n",
       "    <tr>\n",
       "      <th>6</th>\n",
       "      <td>2015-01-09</td>\n",
       "      <td>48.020000</td>\n",
       "      <td>46.898571</td>\n",
       "      <td>47.631428</td>\n",
       "      <td>47.041428</td>\n",
       "      <td>2015</td>\n",
       "      <td>1</td>\n",
       "      <td>9</td>\n",
       "    </tr>\n",
       "    <tr>\n",
       "      <th>7</th>\n",
       "      <td>2015-01-12</td>\n",
       "      <td>47.198570</td>\n",
       "      <td>45.264286</td>\n",
       "      <td>47.090000</td>\n",
       "      <td>45.547142</td>\n",
       "      <td>2015</td>\n",
       "      <td>1</td>\n",
       "      <td>12</td>\n",
       "    </tr>\n",
       "    <tr>\n",
       "      <th>8</th>\n",
       "      <td>2015-01-13</td>\n",
       "      <td>47.048573</td>\n",
       "      <td>45.900002</td>\n",
       "      <td>46.021427</td>\n",
       "      <td>46.255714</td>\n",
       "      <td>2015</td>\n",
       "      <td>1</td>\n",
       "      <td>13</td>\n",
       "    </tr>\n",
       "    <tr>\n",
       "      <th>9</th>\n",
       "      <td>2015-01-14</td>\n",
       "      <td>47.369999</td>\n",
       "      <td>45.680000</td>\n",
       "      <td>47.071430</td>\n",
       "      <td>46.320000</td>\n",
       "      <td>2015</td>\n",
       "      <td>1</td>\n",
       "      <td>14</td>\n",
       "    </tr>\n",
       "  </tbody>\n",
       "</table>\n",
       "</div>"
      ],
      "text/plain": [
       "        Date       High        Low       Open      Close  Year  Month  Day\n",
       "0 2014-12-31  49.391430  48.787144  49.032856  48.801430  2014     12   31\n",
       "1 2015-01-02  50.331429  48.731430  49.151428  49.848572  2015      1    2\n",
       "2 2015-01-05  49.258572  47.147144  49.258572  47.311428  2015      1    5\n",
       "3 2015-01-06  47.639999  45.661430  47.347141  46.501431  2015      1    6\n",
       "4 2015-01-07  47.421429  46.271427  47.347141  46.742859  2015      1    7\n",
       "5 2015-01-08  47.835712  46.478573  47.119999  47.779999  2015      1    8\n",
       "6 2015-01-09  48.020000  46.898571  47.631428  47.041428  2015      1    9\n",
       "7 2015-01-12  47.198570  45.264286  47.090000  45.547142  2015      1   12\n",
       "8 2015-01-13  47.048573  45.900002  46.021427  46.255714  2015      1   13\n",
       "9 2015-01-14  47.369999  45.680000  47.071430  46.320000  2015      1   14"
      ]
     },
     "execution_count": 11,
     "metadata": {},
     "output_type": "execute_result"
    }
   ],
   "source": [
    "# convert datetime to separate year and month and day columns so that no error occurs while training.\n",
    "xy_df['Year'] = df['Date'].dt.year\n",
    "xy_df['Month'] = df['Date'].dt.month\n",
    "xy_df['Day'] = df['Date'].dt.day\n",
    "xy_df.head(10)"
   ]
  },
  {
   "cell_type": "code",
   "execution_count": 12,
   "metadata": {
    "scrolled": true
   },
   "outputs": [
    {
     "data": {
      "text/html": [
       "<div>\n",
       "<style scoped>\n",
       "    .dataframe tbody tr th:only-of-type {\n",
       "        vertical-align: middle;\n",
       "    }\n",
       "\n",
       "    .dataframe tbody tr th {\n",
       "        vertical-align: top;\n",
       "    }\n",
       "\n",
       "    .dataframe thead th {\n",
       "        text-align: right;\n",
       "    }\n",
       "</style>\n",
       "<table border=\"1\" class=\"dataframe\">\n",
       "  <thead>\n",
       "    <tr style=\"text-align: right;\">\n",
       "      <th></th>\n",
       "      <th>Day</th>\n",
       "      <th>Month</th>\n",
       "      <th>Year</th>\n",
       "      <th>High</th>\n",
       "      <th>Low</th>\n",
       "      <th>Open</th>\n",
       "      <th>Close</th>\n",
       "    </tr>\n",
       "  </thead>\n",
       "  <tbody>\n",
       "    <tr>\n",
       "      <th>0</th>\n",
       "      <td>31</td>\n",
       "      <td>12</td>\n",
       "      <td>2014</td>\n",
       "      <td>49.391430</td>\n",
       "      <td>48.787144</td>\n",
       "      <td>49.032856</td>\n",
       "      <td>48.801430</td>\n",
       "    </tr>\n",
       "    <tr>\n",
       "      <th>1</th>\n",
       "      <td>2</td>\n",
       "      <td>1</td>\n",
       "      <td>2015</td>\n",
       "      <td>50.331429</td>\n",
       "      <td>48.731430</td>\n",
       "      <td>49.151428</td>\n",
       "      <td>49.848572</td>\n",
       "    </tr>\n",
       "    <tr>\n",
       "      <th>2</th>\n",
       "      <td>5</td>\n",
       "      <td>1</td>\n",
       "      <td>2015</td>\n",
       "      <td>49.258572</td>\n",
       "      <td>47.147144</td>\n",
       "      <td>49.258572</td>\n",
       "      <td>47.311428</td>\n",
       "    </tr>\n",
       "    <tr>\n",
       "      <th>3</th>\n",
       "      <td>6</td>\n",
       "      <td>1</td>\n",
       "      <td>2015</td>\n",
       "      <td>47.639999</td>\n",
       "      <td>45.661430</td>\n",
       "      <td>47.347141</td>\n",
       "      <td>46.501431</td>\n",
       "    </tr>\n",
       "    <tr>\n",
       "      <th>4</th>\n",
       "      <td>7</td>\n",
       "      <td>1</td>\n",
       "      <td>2015</td>\n",
       "      <td>47.421429</td>\n",
       "      <td>46.271427</td>\n",
       "      <td>47.347141</td>\n",
       "      <td>46.742859</td>\n",
       "    </tr>\n",
       "    <tr>\n",
       "      <th>5</th>\n",
       "      <td>8</td>\n",
       "      <td>1</td>\n",
       "      <td>2015</td>\n",
       "      <td>47.835712</td>\n",
       "      <td>46.478573</td>\n",
       "      <td>47.119999</td>\n",
       "      <td>47.779999</td>\n",
       "    </tr>\n",
       "    <tr>\n",
       "      <th>6</th>\n",
       "      <td>9</td>\n",
       "      <td>1</td>\n",
       "      <td>2015</td>\n",
       "      <td>48.020000</td>\n",
       "      <td>46.898571</td>\n",
       "      <td>47.631428</td>\n",
       "      <td>47.041428</td>\n",
       "    </tr>\n",
       "    <tr>\n",
       "      <th>7</th>\n",
       "      <td>12</td>\n",
       "      <td>1</td>\n",
       "      <td>2015</td>\n",
       "      <td>47.198570</td>\n",
       "      <td>45.264286</td>\n",
       "      <td>47.090000</td>\n",
       "      <td>45.547142</td>\n",
       "    </tr>\n",
       "    <tr>\n",
       "      <th>8</th>\n",
       "      <td>13</td>\n",
       "      <td>1</td>\n",
       "      <td>2015</td>\n",
       "      <td>47.048573</td>\n",
       "      <td>45.900002</td>\n",
       "      <td>46.021427</td>\n",
       "      <td>46.255714</td>\n",
       "    </tr>\n",
       "    <tr>\n",
       "      <th>9</th>\n",
       "      <td>14</td>\n",
       "      <td>1</td>\n",
       "      <td>2015</td>\n",
       "      <td>47.369999</td>\n",
       "      <td>45.680000</td>\n",
       "      <td>47.071430</td>\n",
       "      <td>46.320000</td>\n",
       "    </tr>\n",
       "  </tbody>\n",
       "</table>\n",
       "</div>"
      ],
      "text/plain": [
       "   Day  Month  Year       High        Low       Open      Close\n",
       "0   31     12  2014  49.391430  48.787144  49.032856  48.801430\n",
       "1    2      1  2015  50.331429  48.731430  49.151428  49.848572\n",
       "2    5      1  2015  49.258572  47.147144  49.258572  47.311428\n",
       "3    6      1  2015  47.639999  45.661430  47.347141  46.501431\n",
       "4    7      1  2015  47.421429  46.271427  47.347141  46.742859\n",
       "5    8      1  2015  47.835712  46.478573  47.119999  47.779999\n",
       "6    9      1  2015  48.020000  46.898571  47.631428  47.041428\n",
       "7   12      1  2015  47.198570  45.264286  47.090000  45.547142\n",
       "8   13      1  2015  47.048573  45.900002  46.021427  46.255714\n",
       "9   14      1  2015  47.369999  45.680000  47.071430  46.320000"
      ]
     },
     "execution_count": 12,
     "metadata": {},
     "output_type": "execute_result"
    }
   ],
   "source": [
    "# reorder cols appropriately for final dataset.\n",
    "xy_df = xy_df[[ 'Day', 'Month','Year', 'High', 'Low', 'Open', 'Close']]\n",
    "xy_df.head(10)"
   ]
  },
  {
   "cell_type": "code",
   "execution_count": 13,
   "metadata": {
    "scrolled": true
   },
   "outputs": [
    {
     "name": "stdout",
     "output_type": "stream",
     "text": [
      "   Day  Month  Year       High        Low       Open\n",
      "0   31     12  2014  49.391430  48.787144  49.032856\n",
      "1    2      1  2015  50.331429  48.731430  49.151428\n",
      "2    5      1  2015  49.258572  47.147144  49.258572\n",
      "3    6      1  2015  47.639999  45.661430  47.347141\n",
      "4    7      1  2015  47.421429  46.271427  47.347141\n",
      "\n",
      "0    48.801430\n",
      "1    49.848572\n",
      "2    47.311428\n",
      "3    46.501431\n",
      "4    46.742859\n",
      "Name: Close, dtype: float64\n",
      "\n",
      "(1470, 6)\n",
      "(1470,)\n"
     ]
    }
   ],
   "source": [
    "# create input and output datasets X and y.\n",
    "X = xy_df.iloc[:, :6]\n",
    "y = xy_df.iloc[:, 6]\n",
    "print(X.head())\n",
    "print()\n",
    "print(y.head())\n",
    "print()\n",
    "print(X.shape)\n",
    "print(y.shape)"
   ]
  },
  {
   "cell_type": "code",
   "execution_count": 14,
   "metadata": {},
   "outputs": [],
   "source": [
    "# split the dataset into training(80%) and testing datasets(20%) in\n",
    "X_train, X_test, y_train, y_test = train_test_split(X, y, test_size=0.20)"
   ]
  },
  {
   "cell_type": "code",
   "execution_count": 15,
   "metadata": {},
   "outputs": [
    {
     "name": "stdout",
     "output_type": "stream",
     "text": [
      "(1470, 6)\n",
      "(1470,)\n"
     ]
    }
   ],
   "source": [
    "print(X.shape)\n",
    "print(y.shape)"
   ]
  },
  {
   "cell_type": "code",
   "execution_count": 16,
   "metadata": {
    "scrolled": true
   },
   "outputs": [
    {
     "name": "stdout",
     "output_type": "stream",
     "text": [
      "(1176, 6)\n",
      "(1176,)\n",
      "(294, 6)\n",
      "(294,)\n"
     ]
    }
   ],
   "source": [
    "# Check out the shapes of train and test data\n",
    "print(X_train.shape)\n",
    "print(y_train.shape)\n",
    "print(X_test.shape)\n",
    "print(y_test.shape)"
   ]
  },
  {
   "cell_type": "code",
   "execution_count": 17,
   "metadata": {},
   "outputs": [],
   "source": [
    "# create model\n",
    "lr_model = LinearRegression()"
   ]
  },
  {
   "cell_type": "code",
   "execution_count": 18,
   "metadata": {},
   "outputs": [
    {
     "data": {
      "text/plain": [
       "LinearRegression()"
      ]
     },
     "execution_count": 18,
     "metadata": {},
     "output_type": "execute_result"
    }
   ],
   "source": [
    "# train the model\n",
    "lr_model.fit(X_train, y_train)"
   ]
  },
  {
   "cell_type": "code",
   "execution_count": 19,
   "metadata": {},
   "outputs": [],
   "source": [
    "# predict y using x\n",
    "y_predict = lr_model.predict(X_test)"
   ]
  },
  {
   "cell_type": "code",
   "execution_count": 20,
   "metadata": {},
   "outputs": [
    {
     "data": {
      "text/plain": [
       "0.9995763992585082"
      ]
     },
     "execution_count": 20,
     "metadata": {},
     "output_type": "execute_result"
    }
   ],
   "source": [
    "lr_model.score(X_train, y_train)"
   ]
  },
  {
   "cell_type": "code",
   "execution_count": 21,
   "metadata": {},
   "outputs": [
    {
     "data": {
      "text/plain": [
       "0.9995840860126657"
      ]
     },
     "execution_count": 21,
     "metadata": {},
     "output_type": "execute_result"
    }
   ],
   "source": [
    "# score of the model.\n",
    "lr_model.score(X_test, y_test)"
   ]
  },
  {
   "cell_type": "code",
   "execution_count": 22,
   "metadata": {},
   "outputs": [
    {
     "name": "stdout",
     "output_type": "stream",
     "text": [
      "Accuracy:  99.95165951796838\n"
     ]
    }
   ],
   "source": [
    "# Cross Validation to evaluate the performance of model\n",
    "from sklearn import model_selection\n",
    "from sklearn.model_selection import KFold\n",
    "kfold = model_selection.KFold(n_splits=20, shuffle=True, random_state=100)\n",
    "results_kfold = model_selection.cross_val_score(lr_model, X_test, y_test.astype('int'), cv=kfold)\n",
    "print('Accuracy: ', results_kfold.mean() * 100)"
   ]
  },
  {
   "cell_type": "code",
   "execution_count": 23,
   "metadata": {
    "scrolled": false
   },
   "outputs": [
    {
     "data": {
      "image/png": "[encoded data removed]",
      "text/plain": [
       "<Figure size 1152x576 with 1 Axes>"
      ]
     },
     "metadata": {},
     "output_type": "display_data"
    }
   ],
   "source": [
    "res_df = pd.DataFrame({'Actual': y_test, 'Predicted': y_predict})\n",
    "res_df.head(20).plot(kind='bar', figsize=(16,8))\n",
    "plt.show()"
   ]
  },
  {
   "cell_type": "code",
   "execution_count": 24,
   "metadata": {},
   "outputs": [
    {
     "data": {
      "text/html": [
       "<div>\n",
       "<style scoped>\n",
       "    .dataframe tbody tr th:only-of-type {\n",
       "        vertical-align: middle;\n",
       "    }\n",
       "\n",
       "    .dataframe tbody tr th {\n",
       "        vertical-align: top;\n",
       "    }\n",
       "\n",
       "    .dataframe thead th {\n",
       "        text-align: right;\n",
       "    }\n",
       "</style>\n",
       "<table border=\"1\" class=\"dataframe\">\n",
       "  <thead>\n",
       "    <tr style=\"text-align: right;\">\n",
       "      <th></th>\n",
       "      <th>Actual</th>\n",
       "      <th>Predicted</th>\n",
       "      <th>Date</th>\n",
       "    </tr>\n",
       "  </thead>\n",
       "  <tbody>\n",
       "    <tr>\n",
       "      <th>0</th>\n",
       "      <td>48.801430</td>\n",
       "      <td>48.817661</td>\n",
       "      <td>2014-12-31</td>\n",
       "    </tr>\n",
       "    <tr>\n",
       "      <th>1</th>\n",
       "      <td>49.848572</td>\n",
       "      <td>50.092255</td>\n",
       "      <td>2015-01-02</td>\n",
       "    </tr>\n",
       "    <tr>\n",
       "      <th>2</th>\n",
       "      <td>47.311428</td>\n",
       "      <td>47.850567</td>\n",
       "      <td>2015-01-05</td>\n",
       "    </tr>\n",
       "    <tr>\n",
       "      <th>3</th>\n",
       "      <td>46.501431</td>\n",
       "      <td>46.502566</td>\n",
       "      <td>2015-01-06</td>\n",
       "    </tr>\n",
       "    <tr>\n",
       "      <th>4</th>\n",
       "      <td>46.742859</td>\n",
       "      <td>46.781633</td>\n",
       "      <td>2015-01-07</td>\n",
       "    </tr>\n",
       "    <tr>\n",
       "      <th>...</th>\n",
       "      <td>...</td>\n",
       "      <td>...</td>\n",
       "      <td>...</td>\n",
       "    </tr>\n",
       "    <tr>\n",
       "      <th>1465</th>\n",
       "      <td>488.239990</td>\n",
       "      <td>488.621563</td>\n",
       "      <td>2020-10-26</td>\n",
       "    </tr>\n",
       "    <tr>\n",
       "      <th>1466</th>\n",
       "      <td>488.929993</td>\n",
       "      <td>484.638205</td>\n",
       "      <td>2020-10-27</td>\n",
       "    </tr>\n",
       "    <tr>\n",
       "      <th>1467</th>\n",
       "      <td>486.239990</td>\n",
       "      <td>490.071031</td>\n",
       "      <td>2020-10-28</td>\n",
       "    </tr>\n",
       "    <tr>\n",
       "      <th>1468</th>\n",
       "      <td>504.209991</td>\n",
       "      <td>502.262747</td>\n",
       "      <td>2020-10-29</td>\n",
       "    </tr>\n",
       "    <tr>\n",
       "      <th>1469</th>\n",
       "      <td>475.739990</td>\n",
       "      <td>481.677567</td>\n",
       "      <td>2020-10-30</td>\n",
       "    </tr>\n",
       "  </tbody>\n",
       "</table>\n",
       "<p>1470 rows × 3 columns</p>\n",
       "</div>"
      ],
      "text/plain": [
       "          Actual   Predicted       Date\n",
       "0      48.801430   48.817661 2014-12-31\n",
       "1      49.848572   50.092255 2015-01-02\n",
       "2      47.311428   47.850567 2015-01-05\n",
       "3      46.501431   46.502566 2015-01-06\n",
       "4      46.742859   46.781633 2015-01-07\n",
       "...          ...         ...        ...\n",
       "1465  488.239990  488.621563 2020-10-26\n",
       "1466  488.929993  484.638205 2020-10-27\n",
       "1467  486.239990  490.071031 2020-10-28\n",
       "1468  504.209991  502.262747 2020-10-29\n",
       "1469  475.739990  481.677567 2020-10-30\n",
       "\n",
       "[1470 rows x 3 columns]"
      ]
     },
     "execution_count": 24,
     "metadata": {},
     "output_type": "execute_result"
    }
   ],
   "source": [
    "# setting up a df for visualisation\n",
    "vis_df = pd.DataFrame({'Actual': xy_df['Close'], 'Predicted': lr_model.predict(X)})\n",
    "vis_df['Date'] = df['Date']\n",
    "vis_df"
   ]
  },
  {
   "cell_type": "code",
   "execution_count": 25,
   "metadata": {
    "scrolled": false
   },
   "outputs": [
    {
     "data": {
      "image/png": "[encoded data removed]",
      "text/plain": [
       "<Figure size 1152x576 with 1 Axes>"
      ]
     },
     "metadata": {},
     "output_type": "display_data"
    }
   ],
   "source": [
    "# visualizing the complete df data\n",
    "plt.figure(figsize=(16,8))\n",
    "plt.plot(vis_df['Date'], vis_df['Actual'], label = 'Actual Closing Price')\n",
    "plt.plot(vis_df['Date'],vis_df['Predicted'], c='r', label='Predicted Closing Price')\n",
    "plt.title('Netflix Stock')\n",
    "plt.xlabel('Date')\n",
    "plt.ylabel('Closing Price in USD')\n",
    "plt.legend()\n",
    "plt.show()"
   ]
  },
  {
   "cell_type": "code",
   "execution_count": 26,
   "metadata": {},
   "outputs": [
    {
     "data": {
      "text/plain": [
       "['trained_linear_regression_model']"
      ]
     },
     "execution_count": 26,
     "metadata": {},
     "output_type": "execute_result"
    }
   ],
   "source": [
    "# save the model for later use\n",
    "import joblib\n",
    "filename = 'trained_linear_regression_model'\n",
    "joblib.dump(lr_model, filename)"
   ]
  },
  {
   "cell_type": "code",
   "execution_count": 27,
   "metadata": {},
   "outputs": [
    {
     "data": {
      "text/plain": [
       "0.9995840860126657"
      ]
     },
     "execution_count": 27,
     "metadata": {},
     "output_type": "execute_result"
    }
   ],
   "source": [
    "# test whether the saved model works or not\n",
    "loaded_model = joblib.load(filename)\n",
    "loaded_model.score(X_test, y_test)"
   ]
  }
 ],
 "metadata": {
  "kernelspec": {
   "display_name": "Python 3",
   "language": "python",
   "name": "python3"
  },
  "language_info": {
   "codemirror_mode": {
    "name": "ipython",
    "version": 3
   },
   "file_extension": ".py",
   "mimetype": "text/x-python",
   "name": "python",
   "nbconvert_exporter": "python",
   "pygments_lexer": "ipython3",
   "version": "3.9.4"
  }
 },
 "nbformat": 4,
 "nbformat_minor": 4
}
