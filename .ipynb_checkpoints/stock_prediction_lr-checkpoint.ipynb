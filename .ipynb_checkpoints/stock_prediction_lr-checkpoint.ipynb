{
 "cells": [
  {
   "cell_type": "code",
   "execution_count": 1,
   "metadata": {},
   "outputs": [],
   "source": [
    "import pandas as pd\n",
    "import pandas_datareader.data as web\n",
    "import matplotlib.pyplot as plt\n",
    "from sklearn.model_selection import train_test_split\n",
    "from sklearn.linear_model import LinearRegression\n",
    "import numpy as np"
   ]
  },
  {
   "cell_type": "code",
   "execution_count": 2,
   "metadata": {},
   "outputs": [
    {
     "data": {
      "text/html": [
       "<div>\n",
       "<style scoped>\n",
       "    .dataframe tbody tr th:only-of-type {\n",
       "        vertical-align: middle;\n",
       "    }\n",
       "\n",
       "    .dataframe tbody tr th {\n",
       "        vertical-align: top;\n",
       "    }\n",
       "\n",
       "    .dataframe thead th {\n",
       "        text-align: right;\n",
       "    }\n",
       "</style>\n",
       "<table border=\"1\" class=\"dataframe\">\n",
       "  <thead>\n",
       "    <tr style=\"text-align: right;\">\n",
       "      <th></th>\n",
       "      <th>High</th>\n",
       "      <th>Low</th>\n",
       "      <th>Open</th>\n",
       "      <th>Close</th>\n",
       "      <th>Volume</th>\n",
       "      <th>Adj Close</th>\n",
       "    </tr>\n",
       "    <tr>\n",
       "      <th>Date</th>\n",
       "      <th></th>\n",
       "      <th></th>\n",
       "      <th></th>\n",
       "      <th></th>\n",
       "      <th></th>\n",
       "      <th></th>\n",
       "    </tr>\n",
       "  </thead>\n",
       "  <tbody>\n",
       "    <tr>\n",
       "      <th>2017-01-03</th>\n",
       "      <td>128.190002</td>\n",
       "      <td>124.309998</td>\n",
       "      <td>124.959999</td>\n",
       "      <td>127.489998</td>\n",
       "      <td>9437900</td>\n",
       "      <td>127.489998</td>\n",
       "    </tr>\n",
       "    <tr>\n",
       "      <th>2017-01-04</th>\n",
       "      <td>130.169998</td>\n",
       "      <td>126.550003</td>\n",
       "      <td>127.489998</td>\n",
       "      <td>129.410004</td>\n",
       "      <td>7843600</td>\n",
       "      <td>129.410004</td>\n",
       "    </tr>\n",
       "    <tr>\n",
       "      <th>2017-01-05</th>\n",
       "      <td>132.750000</td>\n",
       "      <td>128.899994</td>\n",
       "      <td>129.220001</td>\n",
       "      <td>131.809998</td>\n",
       "      <td>10185500</td>\n",
       "      <td>131.809998</td>\n",
       "    </tr>\n",
       "    <tr>\n",
       "      <th>2017-01-06</th>\n",
       "      <td>133.880005</td>\n",
       "      <td>129.809998</td>\n",
       "      <td>132.080002</td>\n",
       "      <td>131.070007</td>\n",
       "      <td>10657900</td>\n",
       "      <td>131.070007</td>\n",
       "    </tr>\n",
       "    <tr>\n",
       "      <th>2017-01-09</th>\n",
       "      <td>131.990005</td>\n",
       "      <td>129.889999</td>\n",
       "      <td>131.479996</td>\n",
       "      <td>130.949997</td>\n",
       "      <td>5771800</td>\n",
       "      <td>130.949997</td>\n",
       "    </tr>\n",
       "    <tr>\n",
       "      <th>...</th>\n",
       "      <td>...</td>\n",
       "      <td>...</td>\n",
       "      <td>...</td>\n",
       "      <td>...</td>\n",
       "      <td>...</td>\n",
       "      <td>...</td>\n",
       "    </tr>\n",
       "    <tr>\n",
       "      <th>2019-12-24</th>\n",
       "      <td>335.700012</td>\n",
       "      <td>331.600006</td>\n",
       "      <td>334.010010</td>\n",
       "      <td>333.200012</td>\n",
       "      <td>2019300</td>\n",
       "      <td>333.200012</td>\n",
       "    </tr>\n",
       "    <tr>\n",
       "      <th>2019-12-26</th>\n",
       "      <td>336.459991</td>\n",
       "      <td>332.010010</td>\n",
       "      <td>334.600006</td>\n",
       "      <td>332.630005</td>\n",
       "      <td>3589900</td>\n",
       "      <td>332.630005</td>\n",
       "    </tr>\n",
       "    <tr>\n",
       "      <th>2019-12-27</th>\n",
       "      <td>333.820007</td>\n",
       "      <td>326.010010</td>\n",
       "      <td>332.959991</td>\n",
       "      <td>329.089996</td>\n",
       "      <td>5036100</td>\n",
       "      <td>329.089996</td>\n",
       "    </tr>\n",
       "    <tr>\n",
       "      <th>2019-12-30</th>\n",
       "      <td>329.190002</td>\n",
       "      <td>322.859985</td>\n",
       "      <td>329.079987</td>\n",
       "      <td>323.309998</td>\n",
       "      <td>4311500</td>\n",
       "      <td>323.309998</td>\n",
       "    </tr>\n",
       "    <tr>\n",
       "      <th>2019-12-31</th>\n",
       "      <td>324.920013</td>\n",
       "      <td>321.089996</td>\n",
       "      <td>322.000000</td>\n",
       "      <td>323.570007</td>\n",
       "      <td>3713300</td>\n",
       "      <td>323.570007</td>\n",
       "    </tr>\n",
       "  </tbody>\n",
       "</table>\n",
       "<p>754 rows × 6 columns</p>\n",
       "</div>"
      ],
      "text/plain": [
       "                  High         Low        Open       Close    Volume  \\\n",
       "Date                                                                   \n",
       "2017-01-03  128.190002  124.309998  124.959999  127.489998   9437900   \n",
       "2017-01-04  130.169998  126.550003  127.489998  129.410004   7843600   \n",
       "2017-01-05  132.750000  128.899994  129.220001  131.809998  10185500   \n",
       "2017-01-06  133.880005  129.809998  132.080002  131.070007  10657900   \n",
       "2017-01-09  131.990005  129.889999  131.479996  130.949997   5771800   \n",
       "...                ...         ...         ...         ...       ...   \n",
       "2019-12-24  335.700012  331.600006  334.010010  333.200012   2019300   \n",
       "2019-12-26  336.459991  332.010010  334.600006  332.630005   3589900   \n",
       "2019-12-27  333.820007  326.010010  332.959991  329.089996   5036100   \n",
       "2019-12-30  329.190002  322.859985  329.079987  323.309998   4311500   \n",
       "2019-12-31  324.920013  321.089996  322.000000  323.570007   3713300   \n",
       "\n",
       "             Adj Close  \n",
       "Date                    \n",
       "2017-01-03  127.489998  \n",
       "2017-01-04  129.410004  \n",
       "2017-01-05  131.809998  \n",
       "2017-01-06  131.070007  \n",
       "2017-01-09  130.949997  \n",
       "...                ...  \n",
       "2019-12-24  333.200012  \n",
       "2019-12-26  332.630005  \n",
       "2019-12-27  329.089996  \n",
       "2019-12-30  323.309998  \n",
       "2019-12-31  323.570007  \n",
       "\n",
       "[754 rows x 6 columns]"
      ]
     },
     "execution_count": 2,
     "metadata": {},
     "output_type": "execute_result"
    }
   ],
   "source": [
    "# get the dataset from Yahoo.\n",
    "start = '2017-01-01'\n",
    "end = '2020-01-01'\n",
    "df = web.DataReader('NFLX', 'yahoo', start=start, end=end)\n",
    "df"
   ]
  },
  {
   "cell_type": "code",
   "execution_count": 3,
   "metadata": {
    "scrolled": true
   },
   "outputs": [
    {
     "data": {
      "text/html": [
       "<div>\n",
       "<style scoped>\n",
       "    .dataframe tbody tr th:only-of-type {\n",
       "        vertical-align: middle;\n",
       "    }\n",
       "\n",
       "    .dataframe tbody tr th {\n",
       "        vertical-align: top;\n",
       "    }\n",
       "\n",
       "    .dataframe thead th {\n",
       "        text-align: right;\n",
       "    }\n",
       "</style>\n",
       "<table border=\"1\" class=\"dataframe\">\n",
       "  <thead>\n",
       "    <tr style=\"text-align: right;\">\n",
       "      <th></th>\n",
       "      <th>Date</th>\n",
       "      <th>High</th>\n",
       "      <th>Low</th>\n",
       "      <th>Open</th>\n",
       "      <th>Close</th>\n",
       "      <th>Volume</th>\n",
       "      <th>Adj Close</th>\n",
       "    </tr>\n",
       "  </thead>\n",
       "  <tbody>\n",
       "    <tr>\n",
       "      <th>0</th>\n",
       "      <td>2017-01-03</td>\n",
       "      <td>128.190002</td>\n",
       "      <td>124.309998</td>\n",
       "      <td>124.959999</td>\n",
       "      <td>127.489998</td>\n",
       "      <td>9437900</td>\n",
       "      <td>127.489998</td>\n",
       "    </tr>\n",
       "    <tr>\n",
       "      <th>1</th>\n",
       "      <td>2017-01-04</td>\n",
       "      <td>130.169998</td>\n",
       "      <td>126.550003</td>\n",
       "      <td>127.489998</td>\n",
       "      <td>129.410004</td>\n",
       "      <td>7843600</td>\n",
       "      <td>129.410004</td>\n",
       "    </tr>\n",
       "    <tr>\n",
       "      <th>2</th>\n",
       "      <td>2017-01-05</td>\n",
       "      <td>132.750000</td>\n",
       "      <td>128.899994</td>\n",
       "      <td>129.220001</td>\n",
       "      <td>131.809998</td>\n",
       "      <td>10185500</td>\n",
       "      <td>131.809998</td>\n",
       "    </tr>\n",
       "    <tr>\n",
       "      <th>3</th>\n",
       "      <td>2017-01-06</td>\n",
       "      <td>133.880005</td>\n",
       "      <td>129.809998</td>\n",
       "      <td>132.080002</td>\n",
       "      <td>131.070007</td>\n",
       "      <td>10657900</td>\n",
       "      <td>131.070007</td>\n",
       "    </tr>\n",
       "    <tr>\n",
       "      <th>4</th>\n",
       "      <td>2017-01-09</td>\n",
       "      <td>131.990005</td>\n",
       "      <td>129.889999</td>\n",
       "      <td>131.479996</td>\n",
       "      <td>130.949997</td>\n",
       "      <td>5771800</td>\n",
       "      <td>130.949997</td>\n",
       "    </tr>\n",
       "  </tbody>\n",
       "</table>\n",
       "</div>"
      ],
      "text/plain": [
       "        Date        High         Low        Open       Close    Volume  \\\n",
       "0 2017-01-03  128.190002  124.309998  124.959999  127.489998   9437900   \n",
       "1 2017-01-04  130.169998  126.550003  127.489998  129.410004   7843600   \n",
       "2 2017-01-05  132.750000  128.899994  129.220001  131.809998  10185500   \n",
       "3 2017-01-06  133.880005  129.809998  132.080002  131.070007  10657900   \n",
       "4 2017-01-09  131.990005  129.889999  131.479996  130.949997   5771800   \n",
       "\n",
       "    Adj Close  \n",
       "0  127.489998  \n",
       "1  129.410004  \n",
       "2  131.809998  \n",
       "3  131.070007  \n",
       "4  130.949997  "
      ]
     },
     "execution_count": 3,
     "metadata": {},
     "output_type": "execute_result"
    }
   ],
   "source": [
    "# resetting index to access Date as a column\n",
    "df.reset_index(inplace=True)\n",
    "df.head()"
   ]
  },
  {
   "cell_type": "code",
   "execution_count": 4,
   "metadata": {},
   "outputs": [
    {
     "data": {
      "text/plain": [
       "(754, 7)"
      ]
     },
     "execution_count": 4,
     "metadata": {},
     "output_type": "execute_result"
    }
   ],
   "source": [
    "df.shape"
   ]
  },
  {
   "cell_type": "code",
   "execution_count": 5,
   "metadata": {},
   "outputs": [
    {
     "data": {
      "image/png": "[encoded data removed]",
      "text/plain": [
       "<Figure size 1152x576 with 1 Axes>"
      ]
     },
     "metadata": {
      "needs_background": "light"
     },
     "output_type": "display_data"
    }
   ],
   "source": [
    "xy_df = df[['Date', 'High', 'Low', 'Open', 'Close']]\n",
    "plt.figure(figsize=(16,8))\n",
    "plt.style.use('fivethirtyeight')\n",
    "plt.plot(xy_df['Date'], xy_df['Close'])\n",
    "plt.xlabel('Date')\n",
    "plt.ylabel('Closing price in USD')\n",
    "plt.show()"
   ]
  },
  {
   "cell_type": "code",
   "execution_count": 6,
   "metadata": {},
   "outputs": [
    {
     "name": "stderr",
     "output_type": "stream",
     "text": [
      "<ipython-input-6-0396481fadf6>:2: SettingWithCopyWarning: \n",
      "A value is trying to be set on a copy of a slice from a DataFrame.\n",
      "Try using .loc[row_indexer,col_indexer] = value instead\n",
      "\n",
      "See the caveats in the documentation: https://pandas.pydata.org/pandas-docs/stable/user_guide/indexing.html#returning-a-view-versus-a-copy\n",
      "  xy_df['Year'] = df['Date'].dt.year\n"
     ]
    },
    {
     "data": {
      "text/html": [
       "<div>\n",
       "<style scoped>\n",
       "    .dataframe tbody tr th:only-of-type {\n",
       "        vertical-align: middle;\n",
       "    }\n",
       "\n",
       "    .dataframe tbody tr th {\n",
       "        vertical-align: top;\n",
       "    }\n",
       "\n",
       "    .dataframe thead th {\n",
       "        text-align: right;\n",
       "    }\n",
       "</style>\n",
       "<table border=\"1\" class=\"dataframe\">\n",
       "  <thead>\n",
       "    <tr style=\"text-align: right;\">\n",
       "      <th></th>\n",
       "      <th>Date</th>\n",
       "      <th>High</th>\n",
       "      <th>Low</th>\n",
       "      <th>Open</th>\n",
       "      <th>Close</th>\n",
       "      <th>Year</th>\n",
       "      <th>Month</th>\n",
       "      <th>Day</th>\n",
       "    </tr>\n",
       "  </thead>\n",
       "  <tbody>\n",
       "    <tr>\n",
       "      <th>0</th>\n",
       "      <td>2017-01-03</td>\n",
       "      <td>128.190002</td>\n",
       "      <td>124.309998</td>\n",
       "      <td>124.959999</td>\n",
       "      <td>127.489998</td>\n",
       "      <td>2017</td>\n",
       "      <td>1</td>\n",
       "      <td>3</td>\n",
       "    </tr>\n",
       "    <tr>\n",
       "      <th>1</th>\n",
       "      <td>2017-01-04</td>\n",
       "      <td>130.169998</td>\n",
       "      <td>126.550003</td>\n",
       "      <td>127.489998</td>\n",
       "      <td>129.410004</td>\n",
       "      <td>2017</td>\n",
       "      <td>1</td>\n",
       "      <td>4</td>\n",
       "    </tr>\n",
       "    <tr>\n",
       "      <th>2</th>\n",
       "      <td>2017-01-05</td>\n",
       "      <td>132.750000</td>\n",
       "      <td>128.899994</td>\n",
       "      <td>129.220001</td>\n",
       "      <td>131.809998</td>\n",
       "      <td>2017</td>\n",
       "      <td>1</td>\n",
       "      <td>5</td>\n",
       "    </tr>\n",
       "    <tr>\n",
       "      <th>3</th>\n",
       "      <td>2017-01-06</td>\n",
       "      <td>133.880005</td>\n",
       "      <td>129.809998</td>\n",
       "      <td>132.080002</td>\n",
       "      <td>131.070007</td>\n",
       "      <td>2017</td>\n",
       "      <td>1</td>\n",
       "      <td>6</td>\n",
       "    </tr>\n",
       "    <tr>\n",
       "      <th>4</th>\n",
       "      <td>2017-01-09</td>\n",
       "      <td>131.990005</td>\n",
       "      <td>129.889999</td>\n",
       "      <td>131.479996</td>\n",
       "      <td>130.949997</td>\n",
       "      <td>2017</td>\n",
       "      <td>1</td>\n",
       "      <td>9</td>\n",
       "    </tr>\n",
       "    <tr>\n",
       "      <th>5</th>\n",
       "      <td>2017-01-10</td>\n",
       "      <td>132.220001</td>\n",
       "      <td>129.289993</td>\n",
       "      <td>131.270004</td>\n",
       "      <td>129.889999</td>\n",
       "      <td>2017</td>\n",
       "      <td>1</td>\n",
       "      <td>10</td>\n",
       "    </tr>\n",
       "    <tr>\n",
       "      <th>6</th>\n",
       "      <td>2017-01-11</td>\n",
       "      <td>131.500000</td>\n",
       "      <td>129.250000</td>\n",
       "      <td>130.910004</td>\n",
       "      <td>130.500000</td>\n",
       "      <td>2017</td>\n",
       "      <td>1</td>\n",
       "      <td>11</td>\n",
       "    </tr>\n",
       "    <tr>\n",
       "      <th>7</th>\n",
       "      <td>2017-01-12</td>\n",
       "      <td>130.850006</td>\n",
       "      <td>128.500000</td>\n",
       "      <td>130.630005</td>\n",
       "      <td>129.179993</td>\n",
       "      <td>2017</td>\n",
       "      <td>1</td>\n",
       "      <td>12</td>\n",
       "    </tr>\n",
       "    <tr>\n",
       "      <th>8</th>\n",
       "      <td>2017-01-13</td>\n",
       "      <td>133.929993</td>\n",
       "      <td>130.580002</td>\n",
       "      <td>131.149994</td>\n",
       "      <td>133.699997</td>\n",
       "      <td>2017</td>\n",
       "      <td>1</td>\n",
       "      <td>13</td>\n",
       "    </tr>\n",
       "    <tr>\n",
       "      <th>9</th>\n",
       "      <td>2017-01-17</td>\n",
       "      <td>135.399994</td>\n",
       "      <td>132.089996</td>\n",
       "      <td>135.039993</td>\n",
       "      <td>132.889999</td>\n",
       "      <td>2017</td>\n",
       "      <td>1</td>\n",
       "      <td>17</td>\n",
       "    </tr>\n",
       "  </tbody>\n",
       "</table>\n",
       "</div>"
      ],
      "text/plain": [
       "        Date        High         Low        Open       Close  Year  Month  Day\n",
       "0 2017-01-03  128.190002  124.309998  124.959999  127.489998  2017      1    3\n",
       "1 2017-01-04  130.169998  126.550003  127.489998  129.410004  2017      1    4\n",
       "2 2017-01-05  132.750000  128.899994  129.220001  131.809998  2017      1    5\n",
       "3 2017-01-06  133.880005  129.809998  132.080002  131.070007  2017      1    6\n",
       "4 2017-01-09  131.990005  129.889999  131.479996  130.949997  2017      1    9\n",
       "5 2017-01-10  132.220001  129.289993  131.270004  129.889999  2017      1   10\n",
       "6 2017-01-11  131.500000  129.250000  130.910004  130.500000  2017      1   11\n",
       "7 2017-01-12  130.850006  128.500000  130.630005  129.179993  2017      1   12\n",
       "8 2017-01-13  133.929993  130.580002  131.149994  133.699997  2017      1   13\n",
       "9 2017-01-17  135.399994  132.089996  135.039993  132.889999  2017      1   17"
      ]
     },
     "execution_count": 6,
     "metadata": {},
     "output_type": "execute_result"
    }
   ],
   "source": [
    "# convert datetime to separate year and month and day columns so that no error occurs while training.\n",
    "xy_df['Year'] = df['Date'].dt.year\n",
    "xy_df['Month'] = df['Date'].dt.month\n",
    "xy_df['Day'] = df['Date'].dt.day\n",
    "xy_df.head(10)"
   ]
  },
  {
   "cell_type": "code",
   "execution_count": 7,
   "metadata": {
    "scrolled": true
   },
   "outputs": [
    {
     "data": {
      "text/html": [
       "<div>\n",
       "<style scoped>\n",
       "    .dataframe tbody tr th:only-of-type {\n",
       "        vertical-align: middle;\n",
       "    }\n",
       "\n",
       "    .dataframe tbody tr th {\n",
       "        vertical-align: top;\n",
       "    }\n",
       "\n",
       "    .dataframe thead th {\n",
       "        text-align: right;\n",
       "    }\n",
       "</style>\n",
       "<table border=\"1\" class=\"dataframe\">\n",
       "  <thead>\n",
       "    <tr style=\"text-align: right;\">\n",
       "      <th></th>\n",
       "      <th>Day</th>\n",
       "      <th>Month</th>\n",
       "      <th>Year</th>\n",
       "      <th>High</th>\n",
       "      <th>Low</th>\n",
       "      <th>Open</th>\n",
       "      <th>Close</th>\n",
       "    </tr>\n",
       "  </thead>\n",
       "  <tbody>\n",
       "    <tr>\n",
       "      <th>0</th>\n",
       "      <td>3</td>\n",
       "      <td>1</td>\n",
       "      <td>2017</td>\n",
       "      <td>128.190002</td>\n",
       "      <td>124.309998</td>\n",
       "      <td>124.959999</td>\n",
       "      <td>127.489998</td>\n",
       "    </tr>\n",
       "    <tr>\n",
       "      <th>1</th>\n",
       "      <td>4</td>\n",
       "      <td>1</td>\n",
       "      <td>2017</td>\n",
       "      <td>130.169998</td>\n",
       "      <td>126.550003</td>\n",
       "      <td>127.489998</td>\n",
       "      <td>129.410004</td>\n",
       "    </tr>\n",
       "    <tr>\n",
       "      <th>2</th>\n",
       "      <td>5</td>\n",
       "      <td>1</td>\n",
       "      <td>2017</td>\n",
       "      <td>132.750000</td>\n",
       "      <td>128.899994</td>\n",
       "      <td>129.220001</td>\n",
       "      <td>131.809998</td>\n",
       "    </tr>\n",
       "    <tr>\n",
       "      <th>3</th>\n",
       "      <td>6</td>\n",
       "      <td>1</td>\n",
       "      <td>2017</td>\n",
       "      <td>133.880005</td>\n",
       "      <td>129.809998</td>\n",
       "      <td>132.080002</td>\n",
       "      <td>131.070007</td>\n",
       "    </tr>\n",
       "    <tr>\n",
       "      <th>4</th>\n",
       "      <td>9</td>\n",
       "      <td>1</td>\n",
       "      <td>2017</td>\n",
       "      <td>131.990005</td>\n",
       "      <td>129.889999</td>\n",
       "      <td>131.479996</td>\n",
       "      <td>130.949997</td>\n",
       "    </tr>\n",
       "    <tr>\n",
       "      <th>5</th>\n",
       "      <td>10</td>\n",
       "      <td>1</td>\n",
       "      <td>2017</td>\n",
       "      <td>132.220001</td>\n",
       "      <td>129.289993</td>\n",
       "      <td>131.270004</td>\n",
       "      <td>129.889999</td>\n",
       "    </tr>\n",
       "    <tr>\n",
       "      <th>6</th>\n",
       "      <td>11</td>\n",
       "      <td>1</td>\n",
       "      <td>2017</td>\n",
       "      <td>131.500000</td>\n",
       "      <td>129.250000</td>\n",
       "      <td>130.910004</td>\n",
       "      <td>130.500000</td>\n",
       "    </tr>\n",
       "    <tr>\n",
       "      <th>7</th>\n",
       "      <td>12</td>\n",
       "      <td>1</td>\n",
       "      <td>2017</td>\n",
       "      <td>130.850006</td>\n",
       "      <td>128.500000</td>\n",
       "      <td>130.630005</td>\n",
       "      <td>129.179993</td>\n",
       "    </tr>\n",
       "    <tr>\n",
       "      <th>8</th>\n",
       "      <td>13</td>\n",
       "      <td>1</td>\n",
       "      <td>2017</td>\n",
       "      <td>133.929993</td>\n",
       "      <td>130.580002</td>\n",
       "      <td>131.149994</td>\n",
       "      <td>133.699997</td>\n",
       "    </tr>\n",
       "    <tr>\n",
       "      <th>9</th>\n",
       "      <td>17</td>\n",
       "      <td>1</td>\n",
       "      <td>2017</td>\n",
       "      <td>135.399994</td>\n",
       "      <td>132.089996</td>\n",
       "      <td>135.039993</td>\n",
       "      <td>132.889999</td>\n",
       "    </tr>\n",
       "  </tbody>\n",
       "</table>\n",
       "</div>"
      ],
      "text/plain": [
       "   Day  Month  Year        High         Low        Open       Close\n",
       "0    3      1  2017  128.190002  124.309998  124.959999  127.489998\n",
       "1    4      1  2017  130.169998  126.550003  127.489998  129.410004\n",
       "2    5      1  2017  132.750000  128.899994  129.220001  131.809998\n",
       "3    6      1  2017  133.880005  129.809998  132.080002  131.070007\n",
       "4    9      1  2017  131.990005  129.889999  131.479996  130.949997\n",
       "5   10      1  2017  132.220001  129.289993  131.270004  129.889999\n",
       "6   11      1  2017  131.500000  129.250000  130.910004  130.500000\n",
       "7   12      1  2017  130.850006  128.500000  130.630005  129.179993\n",
       "8   13      1  2017  133.929993  130.580002  131.149994  133.699997\n",
       "9   17      1  2017  135.399994  132.089996  135.039993  132.889999"
      ]
     },
     "execution_count": 7,
     "metadata": {},
     "output_type": "execute_result"
    }
   ],
   "source": [
    "# reorder cols appropriately for final dataset.\n",
    "xy_df = xy_df[[ 'Day', 'Month','Year', 'High', 'Low', 'Open', 'Close']]\n",
    "xy_df.head(10)"
   ]
  },
  {
   "cell_type": "code",
   "execution_count": 8,
   "metadata": {
    "scrolled": true
   },
   "outputs": [
    {
     "name": "stdout",
     "output_type": "stream",
     "text": [
      "   Day  Month  Year        High         Low        Open\n",
      "0    3      1  2017  128.190002  124.309998  124.959999\n",
      "1    4      1  2017  130.169998  126.550003  127.489998\n",
      "2    5      1  2017  132.750000  128.899994  129.220001\n",
      "3    6      1  2017  133.880005  129.809998  132.080002\n",
      "4    9      1  2017  131.990005  129.889999  131.479996\n",
      "\n",
      "0    127.489998\n",
      "1    129.410004\n",
      "2    131.809998\n",
      "3    131.070007\n",
      "4    130.949997\n",
      "Name: Close, dtype: float64\n",
      "\n",
      "(754, 6)\n",
      "(754,)\n"
     ]
    }
   ],
   "source": [
    "# create input and output datasets X and y.\n",
    "X = xy_df.iloc[:, :6]\n",
    "y = xy_df.iloc[:, 6]\n",
    "print(X.head())\n",
    "print()\n",
    "print(y.head())\n",
    "print()\n",
    "print(X.shape)\n",
    "print(y.shape)"
   ]
  },
  {
   "cell_type": "code",
   "execution_count": 9,
   "metadata": {},
   "outputs": [],
   "source": [
    "# split the dataset into training(80%) and testing datasets(20%) in\n",
    "X_train, X_test, y_train, y_test = train_test_split(X, y, test_size=0.20)"
   ]
  },
  {
   "cell_type": "code",
   "execution_count": 10,
   "metadata": {},
   "outputs": [
    {
     "name": "stdout",
     "output_type": "stream",
     "text": [
      "(754, 6)\n",
      "(754,)\n"
     ]
    }
   ],
   "source": [
    "print(X.shape)\n",
    "print(y.shape)"
   ]
  },
  {
   "cell_type": "code",
   "execution_count": 11,
   "metadata": {
    "scrolled": true
   },
   "outputs": [
    {
     "name": "stdout",
     "output_type": "stream",
     "text": [
      "(603, 6)\n",
      "(603,)\n",
      "(151, 6)\n",
      "(151,)\n"
     ]
    }
   ],
   "source": [
    "print(X_train.shape)\n",
    "print(y_train.shape)\n",
    "print(X_test.shape)\n",
    "print(y_test.shape)"
   ]
  },
  {
   "cell_type": "code",
   "execution_count": 12,
   "metadata": {},
   "outputs": [],
   "source": [
    "# create model\n",
    "lr_model = LinearRegression()"
   ]
  },
  {
   "cell_type": "code",
   "execution_count": 13,
   "metadata": {},
   "outputs": [
    {
     "data": {
      "text/plain": [
       "LinearRegression()"
      ]
     },
     "execution_count": 13,
     "metadata": {},
     "output_type": "execute_result"
    }
   ],
   "source": [
    "# train the model\n",
    "lr_model.fit(X_train, y_train)"
   ]
  },
  {
   "cell_type": "code",
   "execution_count": 14,
   "metadata": {},
   "outputs": [],
   "source": [
    "# predict y using x\n",
    "y_predict = lr_model.predict(X_test)"
   ]
  },
  {
   "cell_type": "code",
   "execution_count": 15,
   "metadata": {},
   "outputs": [
    {
     "data": {
      "text/plain": [
       "0.9992119915351074"
      ]
     },
     "execution_count": 15,
     "metadata": {},
     "output_type": "execute_result"
    }
   ],
   "source": [
    "# score of the model.\n",
    "lr_model.score(X_test, y_test)"
   ]
  },
  {
   "cell_type": "code",
   "execution_count": 16,
   "metadata": {},
   "outputs": [
    {
     "name": "stdout",
     "output_type": "stream",
     "text": [
      "Accuracy:  99.79924760133011\n"
     ]
    }
   ],
   "source": [
    "from sklearn import model_selection\n",
    "from sklearn.model_selection import KFold\n",
    "kfold = model_selection.KFold(n_splits=20, shuffle=True, random_state=100)\n",
    "results_kfold = model_selection.cross_val_score(lr_model, X_test, y_test.astype('int'), cv=kfold)\n",
    "print('Accuracy: ', results_kfold.mean() * 100)"
   ]
  },
  {
   "cell_type": "code",
   "execution_count": 17,
   "metadata": {
    "scrolled": true
   },
   "outputs": [
    {
     "data": {
      "image/png": "[encoded data removed]",
      "text/plain": [
       "<Figure size 1152x576 with 1 Axes>"
      ]
     },
     "metadata": {},
     "output_type": "display_data"
    }
   ],
   "source": [
    "res_df = pd.DataFrame({'Actual': y_test, 'Predicted': y_predict})\n",
    "res_df.head(20).plot(kind='bar', figsize=(16,8))\n",
    "plt.show()"
   ]
  },
  {
   "cell_type": "code",
   "execution_count": 19,
   "metadata": {},
   "outputs": [
    {
     "data": {
      "text/html": [
       "<div>\n",
       "<style scoped>\n",
       "    .dataframe tbody tr th:only-of-type {\n",
       "        vertical-align: middle;\n",
       "    }\n",
       "\n",
       "    .dataframe tbody tr th {\n",
       "        vertical-align: top;\n",
       "    }\n",
       "\n",
       "    .dataframe thead th {\n",
       "        text-align: right;\n",
       "    }\n",
       "</style>\n",
       "<table border=\"1\" class=\"dataframe\">\n",
       "  <thead>\n",
       "    <tr style=\"text-align: right;\">\n",
       "      <th></th>\n",
       "      <th>Actual</th>\n",
       "      <th>Predicted</th>\n",
       "      <th>Date</th>\n",
       "    </tr>\n",
       "  </thead>\n",
       "  <tbody>\n",
       "    <tr>\n",
       "      <th>0</th>\n",
       "      <td>127.489998</td>\n",
       "      <td>127.676872</td>\n",
       "      <td>2017-01-03</td>\n",
       "    </tr>\n",
       "    <tr>\n",
       "      <th>1</th>\n",
       "      <td>129.410004</td>\n",
       "      <td>129.487130</td>\n",
       "      <td>2017-01-04</td>\n",
       "    </tr>\n",
       "    <tr>\n",
       "      <th>2</th>\n",
       "      <td>131.809998</td>\n",
       "      <td>132.419206</td>\n",
       "      <td>2017-01-05</td>\n",
       "    </tr>\n",
       "    <tr>\n",
       "      <th>3</th>\n",
       "      <td>131.070007</td>\n",
       "      <td>132.246733</td>\n",
       "      <td>2017-01-06</td>\n",
       "    </tr>\n",
       "    <tr>\n",
       "      <th>4</th>\n",
       "      <td>130.949997</td>\n",
       "      <td>131.016375</td>\n",
       "      <td>2017-01-09</td>\n",
       "    </tr>\n",
       "    <tr>\n",
       "      <th>...</th>\n",
       "      <td>...</td>\n",
       "      <td>...</td>\n",
       "      <td>...</td>\n",
       "    </tr>\n",
       "    <tr>\n",
       "      <th>749</th>\n",
       "      <td>333.200012</td>\n",
       "      <td>333.179130</td>\n",
       "      <td>2019-12-24</td>\n",
       "    </tr>\n",
       "    <tr>\n",
       "      <th>750</th>\n",
       "      <td>332.630005</td>\n",
       "      <td>333.748556</td>\n",
       "      <td>2019-12-26</td>\n",
       "    </tr>\n",
       "    <tr>\n",
       "      <th>751</th>\n",
       "      <td>329.089996</td>\n",
       "      <td>327.844751</td>\n",
       "      <td>2019-12-27</td>\n",
       "    </tr>\n",
       "    <tr>\n",
       "      <th>752</th>\n",
       "      <td>323.309998</td>\n",
       "      <td>323.846644</td>\n",
       "      <td>2019-12-30</td>\n",
       "    </tr>\n",
       "    <tr>\n",
       "      <th>753</th>\n",
       "      <td>323.570007</td>\n",
       "      <td>323.324266</td>\n",
       "      <td>2019-12-31</td>\n",
       "    </tr>\n",
       "  </tbody>\n",
       "</table>\n",
       "<p>754 rows × 3 columns</p>\n",
       "</div>"
      ],
      "text/plain": [
       "         Actual   Predicted       Date\n",
       "0    127.489998  127.676872 2017-01-03\n",
       "1    129.410004  129.487130 2017-01-04\n",
       "2    131.809998  132.419206 2017-01-05\n",
       "3    131.070007  132.246733 2017-01-06\n",
       "4    130.949997  131.016375 2017-01-09\n",
       "..          ...         ...        ...\n",
       "749  333.200012  333.179130 2019-12-24\n",
       "750  332.630005  333.748556 2019-12-26\n",
       "751  329.089996  327.844751 2019-12-27\n",
       "752  323.309998  323.846644 2019-12-30\n",
       "753  323.570007  323.324266 2019-12-31\n",
       "\n",
       "[754 rows x 3 columns]"
      ]
     },
     "execution_count": 19,
     "metadata": {},
     "output_type": "execute_result"
    }
   ],
   "source": [
    "# setting up a df for visualisation\n",
    "vis_df = pd.DataFrame({'Actual': xy_df['Close'], 'Predicted': lr_model.predict(X)})\n",
    "vis_df['Date'] = df['Date']\n",
    "vis_df"
   ]
  },
  {
   "cell_type": "code",
   "execution_count": 20,
   "metadata": {},
   "outputs": [
    {
     "data": {
      "image/png": "[encoded data removed]",
      "text/plain": [
       "<Figure size 1152x576 with 1 Axes>"
      ]
     },
     "metadata": {},
     "output_type": "display_data"
    }
   ],
   "source": [
    "# visualizing the complete df data\n",
    "plt.figure(figsize=(16,8))\n",
    "plt.plot(vis_df['Date'], vis_df['Actual'], label = 'Actual Closing Price')\n",
    "plt.plot(vis_df['Date'],vis_df['Predicted'], c='r', label='Predicted Closing Price')\n",
    "plt.title('Netflix Stock')\n",
    "plt.xlabel('Date')\n",
    "plt.ylabel('Closing Price')\n",
    "plt.legend()\n",
    "plt.show()"
   ]
  }
 ],
 "metadata": {
  "kernelspec": {
   "display_name": "Python 3",
   "language": "python",
   "name": "python3"
  },
  "language_info": {
   "codemirror_mode": {
    "name": "ipython",
    "version": 3
   },
   "file_extension": ".py",
   "mimetype": "text/x-python",
   "name": "python",
   "nbconvert_exporter": "python",
   "pygments_lexer": "ipython3",
   "version": "3.8.2"
  }
 },
 "nbformat": 4,
 "nbformat_minor": 4
}
